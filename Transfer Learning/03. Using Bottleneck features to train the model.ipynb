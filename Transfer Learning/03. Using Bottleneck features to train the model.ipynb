{
 "cells": [
  {
   "cell_type": "markdown",
   "metadata": {},
   "source": [
    "### Load the required libraries"
   ]
  },
  {
   "cell_type": "code",
   "execution_count": 52,
   "metadata": {},
   "outputs": [
    {
     "data": {
      "text/html": [
       "<style>.container { width:100% !important; }</style>"
      ],
      "text/plain": [
       "<IPython.core.display.HTML object>"
      ]
     },
     "metadata": {},
     "output_type": "display_data"
    }
   ],
   "source": [
    "from IPython.core.display import display, HTML\n",
    "display(HTML(\"<style>.container { width:100% !important; }</style>\"))\n",
    "\n",
    "import numpy as np\n",
    "from keras.preprocessing.image import ImageDataGenerator\n",
    "from keras.models import Sequential\n",
    "from keras.layers import Dropout, Flatten, Dense, BatchNormalization\n",
    "from keras import applications\n",
    "from datetime import datetime as dt\n",
    "from keras import regularizers as reg\n",
    "from keras.optimizers import RMSprop\n",
    "from keras.utils import to_categorical\n",
    "import warnings\n",
    "warnings.filterwarnings(\"ignore\")\n",
    "from keras.callbacks import ModelCheckpoint"
   ]
  },
  {
   "cell_type": "markdown",
   "metadata": {},
   "source": [
    "### Get the bottleneck features"
   ]
  },
  {
   "cell_type": "code",
   "execution_count": 3,
   "metadata": {},
   "outputs": [
    {
     "name": "stdout",
     "output_type": "stream",
     "text": [
      "Found 3600 images belonging to 3 classes.\n",
      "Found 1200 images belonging to 3 classes.\n",
      "Got the bottleneck features in time:  1:21:46.450842\n"
     ]
    }
   ],
   "source": [
    "global_start=dt.now()\n",
    "\n",
    "#Dimensions of our flicker images is 256 X 256\n",
    "img_width, img_height = 256, 256\n",
    "\n",
    "#Declaration of parameters needed for training and validation\n",
    "train_data_dir = 'data/train'\n",
    "validation_data_dir = 'data/validation'\n",
    "epochs = 40\n",
    "batch_size = 16\n",
    "\n",
    "#Get the bottleneck features by  Weights.T * Xi\n",
    "def save_bottlebeck_features():\n",
    "    datagen = ImageDataGenerator(rescale=1./255)\n",
    "\n",
    "    #Load the pre trained VGG16 model from Keras, we will initialize only the convolution layers and ignore the top layers.\n",
    "    model = applications.VGG16(include_top=False, weights='imagenet')\n",
    "\n",
    "    generator_tr = datagen.flow_from_directory(train_data_dir,\n",
    "                                            target_size=(img_width, img_height),\n",
    "                                            batch_size=batch_size,\n",
    "                                            class_mode=None, #class_mode=None means the generator won't load the class labels.\n",
    "                                            shuffle=False) #We won't shuffle the data, because we want the class labels to stay in order.\n",
    "    nb_train_samples = len(generator_tr.filenames) #3600. 1200 training samples for each class\n",
    "    bottleneck_features_train = model.predict_generator(generator_tr, nb_train_samples // batch_size)\n",
    "    np.save('weights/bottleneck_features_train.npy',bottleneck_features_train) #bottleneck_features_train is a numpy array\n",
    "\n",
    "    generator_ts = datagen.flow_from_directory(validation_data_dir,\n",
    "                                            target_size=(img_width, img_height),\n",
    "                                            batch_size=batch_size,\n",
    "                                            class_mode=None,\n",
    "                                            shuffle=False)\n",
    "    nb_validation_samples = len(generator_ts.filenames) #1200. 400 training samples for each class\n",
    "    bottleneck_features_validation = model.predict_generator(generator_ts, nb_validation_samples // batch_size)\n",
    "    np.save('weights/bottleneck_features_validation.npy',bottleneck_features_validation)\n",
    "    print(\"Got the bottleneck features in time: \",dt.now()-global_start)\n",
    "    \n",
    "    num_classes = len(generator_tr.class_indices)\n",
    "    \n",
    "    return nb_train_samples,nb_validation_samples,num_classes,generator_tr,generator_ts\n",
    "    \n",
    "nb_train_samples,nb_validation_samples,num_classes,generator_tr,generator_ts=save_bottlebeck_features()"
   ]
  },
  {
   "cell_type": "markdown",
   "metadata": {},
   "source": [
    "### Train a model with the bottleneck features"
   ]
  },
  {
   "cell_type": "code",
   "execution_count": 54,
   "metadata": {
    "scrolled": true
   },
   "outputs": [
    {
     "name": "stdout",
     "output_type": "stream",
     "text": [
      "_________________________________________________________________\n",
      "Layer (type)                 Output Shape              Param #   \n",
      "=================================================================\n",
      "flatten_7 (Flatten)          (None, 32768)             0         \n",
      "_________________________________________________________________\n",
      "dense_19 (Dense)             (None, 256)               8388864   \n",
      "_________________________________________________________________\n",
      "batch_normalization_13 (Batc (None, 256)               1024      \n",
      "_________________________________________________________________\n",
      "dropout_13 (Dropout)         (None, 256)               0         \n",
      "_________________________________________________________________\n",
      "dense_20 (Dense)             (None, 256)               65792     \n",
      "_________________________________________________________________\n",
      "batch_normalization_14 (Batc (None, 256)               1024      \n",
      "_________________________________________________________________\n",
      "dropout_14 (Dropout)         (None, 256)               0         \n",
      "_________________________________________________________________\n",
      "dense_21 (Dense)             (None, 3)                 771       \n",
      "=================================================================\n",
      "Total params: 8,457,475\n",
      "Trainable params: 8,456,451\n",
      "Non-trainable params: 1,024\n",
      "_________________________________________________________________\n",
      "Train on 3600 samples, validate on 1200 samples\n",
      "Epoch 1/40\n",
      "3600/3600 [==============================] - 29s 8ms/step - loss: 40.6659 - acc: 0.8675 - val_loss: 26.6338 - val_acc: 0.9592\n",
      "\n",
      "Epoch 00001: val_acc improved from -inf to 0.95917, saving model to weights/bottleneck_feats_multi_weights.hdf5\n",
      "Epoch 2/40\n",
      "3600/3600 [==============================] - 25s 7ms/step - loss: 19.4695 - acc: 0.9525 - val_loss: 14.6962 - val_acc: 0.8675\n",
      "\n",
      "Epoch 00002: val_acc did not improve from 0.95917\n",
      "Epoch 3/40\n",
      "3600/3600 [==============================] - 25s 7ms/step - loss: 11.7196 - acc: 0.9611 - val_loss: 10.4578 - val_acc: 0.7958\n",
      "\n",
      "Epoch 00003: val_acc did not improve from 0.95917\n",
      "Epoch 4/40\n",
      "3600/3600 [==============================] - 25s 7ms/step - loss: 8.4546 - acc: 0.9664 - val_loss: 7.5396 - val_acc: 0.9642\n",
      "\n",
      "Epoch 00004: val_acc improved from 0.95917 to 0.96417, saving model to weights/bottleneck_feats_multi_weights.hdf5\n",
      "Epoch 5/40\n",
      "3600/3600 [==============================] - 26s 7ms/step - loss: 6.6636 - acc: 0.9719 - val_loss: 6.1410 - val_acc: 0.9650\n",
      "\n",
      "Epoch 00005: val_acc improved from 0.96417 to 0.96500, saving model to weights/bottleneck_feats_multi_weights.hdf5\n",
      "Epoch 6/40\n",
      "3600/3600 [==============================] - 25s 7ms/step - loss: 5.6293 - acc: 0.9678 - val_loss: 5.7242 - val_acc: 0.8692\n",
      "\n",
      "Epoch 00006: val_acc did not improve from 0.96500\n",
      "Epoch 7/40\n",
      "3600/3600 [==============================] - 25s 7ms/step - loss: 4.9870 - acc: 0.9717 - val_loss: 4.7949 - val_acc: 0.9533\n",
      "\n",
      "Epoch 00007: val_acc did not improve from 0.96500\n",
      "Epoch 8/40\n",
      "3600/3600 [==============================] - 26s 7ms/step - loss: 4.6245 - acc: 0.9547 - val_loss: 4.7073 - val_acc: 0.8900\n",
      "\n",
      "Epoch 00008: val_acc did not improve from 0.96500\n",
      "Epoch 9/40\n",
      "3600/3600 [==============================] - 26s 7ms/step - loss: 4.2632 - acc: 0.9617 - val_loss: 4.8257 - val_acc: 0.8058\n",
      "\n",
      "Epoch 00009: val_acc did not improve from 0.96500\n",
      "Epoch 10/40\n",
      "3600/3600 [==============================] - 26s 7ms/step - loss: 3.9530 - acc: 0.9603 - val_loss: 3.8807 - val_acc: 0.9375\n",
      "\n",
      "Epoch 00010: val_acc did not improve from 0.96500\n",
      "Epoch 11/40\n",
      "3600/3600 [==============================] - 26s 7ms/step - loss: 3.6439 - acc: 0.9636 - val_loss: 3.9014 - val_acc: 0.8708\n",
      "\n",
      "Epoch 00011: val_acc did not improve from 0.96500\n",
      "Epoch 12/40\n",
      "3600/3600 [==============================] - 26s 7ms/step - loss: 3.4687 - acc: 0.9561 - val_loss: 3.9481 - val_acc: 0.8342\n",
      "\n",
      "Epoch 00012: val_acc did not improve from 0.96500\n",
      "Epoch 13/40\n",
      "3600/3600 [==============================] - 26s 7ms/step - loss: 3.3657 - acc: 0.9567 - val_loss: 3.3522 - val_acc: 0.9508\n",
      "\n",
      "Epoch 00013: val_acc did not improve from 0.96500\n",
      "Epoch 14/40\n",
      "3600/3600 [==============================] - 25s 7ms/step - loss: 3.2326 - acc: 0.9522 - val_loss: 3.7924 - val_acc: 0.7925\n",
      "\n",
      "Epoch 00014: val_acc did not improve from 0.96500\n",
      "Epoch 15/40\n",
      "3600/3600 [==============================] - 25s 7ms/step - loss: 2.9142 - acc: 0.9639 - val_loss: 3.0207 - val_acc: 0.9100\n",
      "\n",
      "Epoch 00015: val_acc did not improve from 0.96500\n",
      "Epoch 16/40\n",
      "3600/3600 [==============================] - 25s 7ms/step - loss: 2.7790 - acc: 0.9614 - val_loss: 3.6943 - val_acc: 0.7783\n",
      "\n",
      "Epoch 00016: val_acc did not improve from 0.96500\n",
      "Epoch 17/40\n",
      "3600/3600 [==============================] - 25s 7ms/step - loss: 2.7969 - acc: 0.9539 - val_loss: 3.1967 - val_acc: 0.8400\n",
      "\n",
      "Epoch 00017: val_acc did not improve from 0.96500\n",
      "Epoch 18/40\n",
      "3600/3600 [==============================] - 26s 7ms/step - loss: 2.5847 - acc: 0.9611 - val_loss: 2.7058 - val_acc: 0.9233\n",
      "\n",
      "Epoch 00018: val_acc did not improve from 0.96500\n",
      "Epoch 19/40\n",
      "3600/3600 [==============================] - 25s 7ms/step - loss: 2.4939 - acc: 0.9553 - val_loss: 2.6893 - val_acc: 0.9383\n",
      "\n",
      "Epoch 00019: val_acc did not improve from 0.96500\n",
      "Epoch 20/40\n",
      "3600/3600 [==============================] - 25s 7ms/step - loss: 2.3888 - acc: 0.9583 - val_loss: 2.7374 - val_acc: 0.8617\n",
      "\n",
      "Epoch 00020: val_acc did not improve from 0.96500\n",
      "Epoch 21/40\n",
      "3600/3600 [==============================] - 25s 7ms/step - loss: 2.2951 - acc: 0.9603 - val_loss: 2.4065 - val_acc: 0.8975\n",
      "\n",
      "Epoch 00021: val_acc did not improve from 0.96500\n",
      "Epoch 22/40\n",
      "3600/3600 [==============================] - 25s 7ms/step - loss: 2.2265 - acc: 0.9569 - val_loss: 2.1892 - val_acc: 0.9242\n",
      "\n",
      "Epoch 00022: val_acc did not improve from 0.96500\n",
      "Epoch 23/40\n",
      "3600/3600 [==============================] - 25s 7ms/step - loss: 2.1557 - acc: 0.9592 - val_loss: 2.1667 - val_acc: 0.9408\n",
      "\n",
      "Epoch 00023: val_acc did not improve from 0.96500\n",
      "Epoch 24/40\n",
      "3600/3600 [==============================] - 25s 7ms/step - loss: 2.0919 - acc: 0.9575 - val_loss: 2.4182 - val_acc: 0.8758\n",
      "\n",
      "Epoch 00024: val_acc did not improve from 0.96500\n",
      "Epoch 25/40\n",
      "3600/3600 [==============================] - 25s 7ms/step - loss: 2.0036 - acc: 0.9608 - val_loss: 2.0115 - val_acc: 0.9283\n",
      "\n",
      "Epoch 00025: val_acc did not improve from 0.96500\n",
      "Epoch 26/40\n",
      "3600/3600 [==============================] - 25s 7ms/step - loss: 1.9109 - acc: 0.9628 - val_loss: 2.0146 - val_acc: 0.9483\n",
      "\n",
      "Epoch 00026: val_acc did not improve from 0.96500\n",
      "Epoch 27/40\n",
      "3600/3600 [==============================] - 26s 7ms/step - loss: 1.9182 - acc: 0.9564 - val_loss: 1.8867 - val_acc: 0.9592\n",
      "\n",
      "Epoch 00027: val_acc did not improve from 0.96500\n",
      "Epoch 28/40\n",
      "3600/3600 [==============================] - 27s 8ms/step - loss: 1.8824 - acc: 0.9564 - val_loss: 2.0864 - val_acc: 0.9275\n",
      "\n",
      "Epoch 00028: val_acc did not improve from 0.96500\n",
      "Epoch 29/40\n",
      "3600/3600 [==============================] - 28s 8ms/step - loss: 1.7839 - acc: 0.9611 - val_loss: 1.9532 - val_acc: 0.9242\n",
      "\n",
      "Epoch 00029: val_acc did not improve from 0.96500\n",
      "Epoch 30/40\n",
      "3600/3600 [==============================] - 27s 8ms/step - loss: 1.7428 - acc: 0.9611 - val_loss: 1.7190 - val_acc: 0.9425\n",
      "\n",
      "Epoch 00030: val_acc did not improve from 0.96500\n",
      "Epoch 31/40\n",
      "3600/3600 [==============================] - 27s 7ms/step - loss: 1.6888 - acc: 0.9561 - val_loss: 2.0484 - val_acc: 0.8708\n",
      "\n",
      "Epoch 00031: val_acc did not improve from 0.96500\n",
      "Epoch 32/40\n",
      "3600/3600 [==============================] - 27s 8ms/step - loss: 1.5990 - acc: 0.9628 - val_loss: 1.7074 - val_acc: 0.9342\n",
      "\n",
      "Epoch 00032: val_acc did not improve from 0.96500\n",
      "Epoch 33/40\n",
      "3600/3600 [==============================] - 26s 7ms/step - loss: 1.5686 - acc: 0.9619 - val_loss: 2.4044 - val_acc: 0.7583\n",
      "\n",
      "Epoch 00033: val_acc did not improve from 0.96500\n",
      "Epoch 34/40\n",
      "3600/3600 [==============================] - 28s 8ms/step - loss: 1.5046 - acc: 0.9614 - val_loss: 1.6170 - val_acc: 0.9433\n",
      "\n",
      "Epoch 00034: val_acc did not improve from 0.96500\n",
      "Epoch 35/40\n",
      "3600/3600 [==============================] - 27s 7ms/step - loss: 1.5228 - acc: 0.9578 - val_loss: 1.6568 - val_acc: 0.9550\n",
      "\n",
      "Epoch 00035: val_acc did not improve from 0.96500\n",
      "Epoch 36/40\n"
     ]
    },
    {
     "name": "stdout",
     "output_type": "stream",
     "text": [
      "3600/3600 [==============================] - 27s 7ms/step - loss: 1.5215 - acc: 0.9536 - val_loss: 1.6948 - val_acc: 0.9017\n",
      "\n",
      "Epoch 00036: val_acc did not improve from 0.96500\n",
      "Epoch 37/40\n",
      "3600/3600 [==============================] - 29s 8ms/step - loss: 1.4796 - acc: 0.9569 - val_loss: 1.4777 - val_acc: 0.9483\n",
      "\n",
      "Epoch 00037: val_acc did not improve from 0.96500\n",
      "Epoch 38/40\n",
      "3600/3600 [==============================] - 28s 8ms/step - loss: 1.4467 - acc: 0.9522 - val_loss: 1.4707 - val_acc: 0.9258\n",
      "\n",
      "Epoch 00038: val_acc did not improve from 0.96500\n",
      "Epoch 39/40\n",
      "3600/3600 [==============================] - 27s 7ms/step - loss: 1.3799 - acc: 0.9633 - val_loss: 1.4206 - val_acc: 0.9642\n",
      "\n",
      "Epoch 00039: val_acc did not improve from 0.96500\n",
      "Epoch 40/40\n",
      "3600/3600 [==============================] - 26s 7ms/step - loss: 1.3604 - acc: 0.9608 - val_loss: 1.3704 - val_acc: 0.9550\n",
      "\n",
      "Epoch 00040: val_acc did not improve from 0.96500\n",
      "The top layer trained in time:  0:17:29.245009\n"
     ]
    }
   ],
   "source": [
    "#After we get the bottleneck features, we will build the top fully connected layers on top of the bottlneck features. Let's build the top layers.\n",
    "def train_top_model():\n",
    "    global_start=dt.now()\n",
    "\n",
    "    train_data = np.load('weights/bottleneck_features_train.npy')\n",
    "    validation_data = np.load('weights/bottleneck_features_validation.npy')\n",
    "    \n",
    "    #train_labels = np.array([0] * (nb_train_samples // 3) + [1] * (nb_train_samples // 3) + [2] * (nb_train_samples // 3)) #Equivalent to: np.array([0]*1200 + [1]*1200 + [2]*1200)\n",
    "    #validation_labels = np.array([0] * (nb_validation_samples // 3) + [1] * (nb_validation_samples // 3) + [2] * (nb_validation_samples // 3))\n",
    "    train_labels=generator_tr.classes  \n",
    "    validation_labels=generator_ts.classes\n",
    "    \n",
    "    train_labels = to_categorical(train_labels, num_classes=num_classes)  \n",
    "    validation_labels = to_categorical(validation_labels, num_classes=num_classes)  \n",
    "\n",
    "    model = Sequential()\n",
    "    model.add(Flatten(input_shape=train_data.shape[1:])) #Ignore the first index. It contains ID\n",
    "\n",
    "    model.add(Dense(256, activation='relu',kernel_initializer='he_normal',kernel_regularizer=reg.l1_l2(l1=0.001, l2=0.001))) #Best weight initializer for relu is he_normal\n",
    "    model.add(BatchNormalization()) #Add a BatchNormalization layer to control internel covariance shift\n",
    "    model.add(Dropout(rate=0.5)) #Using droput for regularization\n",
    "\n",
    "    model.add(Dense(256, activation='relu',kernel_initializer='he_normal',kernel_regularizer=reg.l1_l2(l1=0.001, l2=0.001)))\n",
    "    model.add(BatchNormalization()) #Add a BatchNormalization layer to control internel covariance shift\n",
    "    model.add(Dropout(rate=0.5))\n",
    "\n",
    "    model.add(Dense(num_classes, activation='softmax',kernel_initializer='glorot_uniform')) #Because we have 3 classes. Remember, softmax is to multi-class, what sigmoid (log reg) is to binary\n",
    "\n",
    "    optim=RMSprop(lr=0.0001, epsilon=1e-8, decay=1e-6)\n",
    "    model.compile(loss='categorical_crossentropy',optimizer=optim,metrics=['accuracy'])\n",
    "    model.summary()\n",
    "    \n",
    "    #Save the weights for the best epoch accuracy\n",
    "    checkpointer = ModelCheckpoint(filepath=\"weights/bottleneck_feats_multi_weights.hdf5\", monitor = 'val_acc',verbose=1, save_best_only=True)\n",
    "                                   \n",
    "    model.fit(x=train_data,\n",
    "              y=train_labels,\n",
    "              epochs=epochs,\n",
    "              validation_data=(validation_data, validation_labels),\n",
    "              callbacks=[checkpointer])    \n",
    "    \n",
    "    #Refit our model with the best weights saved before\n",
    "    model.load_weights('weights/bottleneck_feats_multi_weights.hdf5')\n",
    "    model.save('weights/bottleneck_feats_multi_model.h5')\n",
    "    print(\"The top layer trained in time: \",dt.now()-global_start)\n",
    "    \n",
    "    return model\n",
    "\n",
    "model=train_top_model()"
   ]
  },
  {
   "cell_type": "code",
   "execution_count": 57,
   "metadata": {},
   "outputs": [
    {
     "name": "stdout",
     "output_type": "stream",
     "text": [
      "Test score (Validation Loss): 6.141017456054687\n",
      "Test accuracy (Accuracy on Unseen Data): 0.965\n"
     ]
    }
   ],
   "source": [
    "train_data = np.load('weights/bottleneck_features_train.npy')\n",
    "validation_data = np.load('weights/bottleneck_features_validation.npy')\n",
    "\n",
    "train_labels = to_categorical(generator_tr.classes, num_classes=num_classes)  \n",
    "validation_labels = to_categorical(generator_ts.classes, num_classes=num_classes)\n",
    "\n",
    "#Plot the train and test loss vs number of epochs\n",
    "score = model.evaluate(validation_data, validation_labels, verbose=0) \n",
    "print('Test score (Validation Loss):', score[0]) \n",
    "print('Test accuracy (Accuracy on Unseen Data):', score[1])"
   ]
  },
  {
   "cell_type": "markdown",
   "metadata": {},
   "source": [
    "### Visualize the train and validation loss"
   ]
  },
  {
   "cell_type": "code",
   "execution_count": 59,
   "metadata": {
    "scrolled": true
   },
   "outputs": [
    {
     "data": {
      "image/png": "[encoded data removed]",
      "text/plain": [
       "<Figure size 432x288 with 1 Axes>"
      ]
     },
     "metadata": {
      "needs_background": "light"
     },
     "output_type": "display_data"
    }
   ],
   "source": [
    "#This function is used to plot/update the train and test loss after each epoch.\n",
    "import matplotlib.pyplot as plt\n",
    "def plt_dynamic_loss(x, vy, ty, ax, colors=['b']):\n",
    "    ax.plot(x, vy, 'b', label=\"Validation Loss\")\n",
    "    ax.plot(x, ty, 'r', label=\"Train Loss\")\n",
    "    plt.legend()\n",
    "    plt.grid()\n",
    "    fig.canvas.draw()\n",
    "\n",
    "#Get model history\n",
    "history=model.history\n",
    "\n",
    "#Plot train vs test loss\n",
    "fig,ax = plt.subplots(1,1)\n",
    "ax.set_xlabel('Epoch') ; ax.set_ylabel('Categorical Crossentropy Loss')\n",
    "\n",
    "#List of epoch numbers\n",
    "x = list(range(1,epochs+1))\n",
    "\n",
    "#Display the loss\n",
    "val_loss = history.history['val_loss'] #Validation Loss\n",
    "loss = history.history['loss'] #Training Loss\n",
    "plt_dynamic_loss(x, val_loss, loss, ax)"
   ]
  },
  {
   "cell_type": "markdown",
   "metadata": {},
   "source": [
    "### Make predictions using a single image"
   ]
  },
  {
   "cell_type": "code",
   "execution_count": 5,
   "metadata": {},
   "outputs": [
    {
     "name": "stdout",
     "output_type": "stream",
     "text": [
      "It's a Tiger!\n",
      "\n",
      "Test Time:  2.37 seconds\n"
     ]
    }
   ],
   "source": [
    "import os\n",
    "import numpy as np\n",
    "from keras.preprocessing.image import ImageDataGenerator, load_img, img_to_array\n",
    "from keras.models import Sequential, load_model\n",
    "import time\n",
    "\n",
    "\n",
    "#Define image parameters. This should be same as the dimensions of the input image\n",
    "img_width, img_height = 256, 256\n",
    "\n",
    "#Make predictions using this function. Call this function with the file name\n",
    "def predict_image(file):\n",
    "    start = time.time()\n",
    "    test_image = load_img(file, target_size=(img_width,img_height))\n",
    "    test_image = img_to_array(test_image)\n",
    "    test_image = test_image / 255.0\n",
    "    test_image = np.expand_dims(test_image, axis=0)\n",
    "\n",
    "\n",
    "    model = applications.VGG16(include_top=False, weights='imagenet')\n",
    "    bottleneck_prediction = model.predict(test_image)  \n",
    "\n",
    "    model = Sequential()\n",
    "    model.add(Flatten(input_shape=bottleneck_prediction.shape[1:])) #Ignore the first index. It contains ID\n",
    "\n",
    "    model.add(Dense(256, activation='relu',kernel_initializer='he_normal',kernel_regularizer=reg.l1_l2(l1=0.001, l2=0.001))) #Best weight initializer for relu is he_normal\n",
    "    model.add(BatchNormalization()) #Add a BatchNormalization layer to control internel covariance shift\n",
    "    model.add(Dropout(rate=0.5)) #Using droput for regularization\n",
    "\n",
    "    model.add(Dense(256, activation='relu',kernel_initializer='he_normal',kernel_regularizer=reg.l1_l2(l1=0.001, l2=0.001)))\n",
    "    model.add(BatchNormalization()) #Add a BatchNormalization layer to control internel covariance shift\n",
    "    model.add(Dropout(rate=0.5))\n",
    "\n",
    "    model.add(Dense(3, activation='softmax',kernel_initializer='glorot_uniform')) #Because we have 3 classes. Remember, softmax is to multi-class, what sigmoid (log reg) is to binary\n",
    "\n",
    "    path='weights/bottleneck_feats_multi_weights.h5'\n",
    "    model.load_weights(path)\n",
    "\n",
    "    result = model.predict_classes(bottleneck_prediction) \n",
    "    \n",
    "    if result[0] == 0:\n",
    "        print(\"It's a Horse!\")\n",
    "    elif result[0] == 1:\n",
    "        print(\"It's a Monkey!\")\n",
    "    elif result[0] == 2:\n",
    "        print(\"It's a Tiger!\")\n",
    "        \n",
    "    #Calculate execution time\n",
    "    print(\"\\nTest Time: \",np.round(time.time()-start,2),\"seconds\")\n",
    "\n",
    "predict_image(\"test/tiger.jpg\")"
   ]
  },
  {
   "cell_type": "markdown",
   "metadata": {},
   "source": [
    "### Visualize all the layers in the neural network"
   ]
  },
  {
   "cell_type": "code",
   "execution_count": 6,
   "metadata": {
    "scrolled": true
   },
   "outputs": [
    {
     "name": "stdout",
     "output_type": "stream",
     "text": [
      "_________________________________________________________________\n",
      "Layer (type)                 Output Shape              Param #   \n",
      "=================================================================\n",
      "input_5 (InputLayer)         (None, None, None, 3)     0         \n",
      "_________________________________________________________________\n",
      "block1_conv1 (Conv2D)        (None, None, None, 64)    1792      \n",
      "_________________________________________________________________\n",
      "block1_conv2 (Conv2D)        (None, None, None, 64)    36928     \n",
      "_________________________________________________________________\n",
      "block1_pool (MaxPooling2D)   (None, None, None, 64)    0         \n",
      "_________________________________________________________________\n",
      "block2_conv1 (Conv2D)        (None, None, None, 128)   73856     \n",
      "_________________________________________________________________\n",
      "block2_conv2 (Conv2D)        (None, None, None, 128)   147584    \n",
      "_________________________________________________________________\n",
      "block2_pool (MaxPooling2D)   (None, None, None, 128)   0         \n",
      "_________________________________________________________________\n",
      "block3_conv1 (Conv2D)        (None, None, None, 256)   295168    \n",
      "_________________________________________________________________\n",
      "block3_conv2 (Conv2D)        (None, None, None, 256)   590080    \n",
      "_________________________________________________________________\n",
      "block3_conv3 (Conv2D)        (None, None, None, 256)   590080    \n",
      "_________________________________________________________________\n",
      "block3_pool (MaxPooling2D)   (None, None, None, 256)   0         \n",
      "_________________________________________________________________\n",
      "block4_conv1 (Conv2D)        (None, None, None, 512)   1180160   \n",
      "_________________________________________________________________\n",
      "block4_conv2 (Conv2D)        (None, None, None, 512)   2359808   \n",
      "_________________________________________________________________\n",
      "block4_conv3 (Conv2D)        (None, None, None, 512)   2359808   \n",
      "_________________________________________________________________\n",
      "block4_pool (MaxPooling2D)   (None, None, None, 512)   0         \n",
      "_________________________________________________________________\n",
      "block5_conv1 (Conv2D)        (None, None, None, 512)   2359808   \n",
      "_________________________________________________________________\n",
      "block5_conv2 (Conv2D)        (None, None, None, 512)   2359808   \n",
      "_________________________________________________________________\n",
      "block5_conv3 (Conv2D)        (None, None, None, 512)   2359808   \n",
      "_________________________________________________________________\n",
      "block5_pool (MaxPooling2D)   (None, None, None, 512)   0         \n",
      "=================================================================\n",
      "Total params: 14,714,688\n",
      "Trainable params: 14,714,688\n",
      "Non-trainable params: 0\n",
      "_________________________________________________________________\n"
     ]
    }
   ],
   "source": [
    "train_data = np.load('weights/bottleneck_features_train.npy')\n",
    "\n",
    "model = applications.VGG16(include_top=False, weights='imagenet')\n",
    "\n",
    "model.summary()"
   ]
  },
  {
   "cell_type": "code",
   "execution_count": 44,
   "metadata": {},
   "outputs": [
    {
     "ename": "TypeError",
     "evalue": "'Conv2D' object does not support indexing",
     "output_type": "error",
     "traceback": [
      "\u001b[0;31m---------------------------------------------------------------------------\u001b[0m",
      "\u001b[0;31mTypeError\u001b[0m                                 Traceback (most recent call last)",
      "\u001b[0;32m<ipython-input-44-2a9130238ccd>\u001b[0m in \u001b[0;36m<module>\u001b[0;34m\u001b[0m\n\u001b[1;32m     16\u001b[0m     \u001b[0;32mreturn\u001b[0m \u001b[0mplt\u001b[0m\u001b[0;34m\u001b[0m\u001b[0;34m\u001b[0m\u001b[0m\n\u001b[1;32m     17\u001b[0m \u001b[0;34m\u001b[0m\u001b[0m\n\u001b[0;32m---> 18\u001b[0;31m \u001b[0mvisualize_filters\u001b[0m\u001b[0;34m(\u001b[0m\u001b[0mmodel\u001b[0m\u001b[0;34m.\u001b[0m\u001b[0mlayers\u001b[0m\u001b[0;34m[\u001b[0m\u001b[0;36m1\u001b[0m\u001b[0;34m]\u001b[0m\u001b[0;34m[\u001b[0m\u001b[0;36m0\u001b[0m\u001b[0;34m]\u001b[0m\u001b[0;34m,\u001b[0m\u001b[0;36m4\u001b[0m\u001b[0;34m,\u001b[0m\u001b[0;36m16\u001b[0m\u001b[0;34m)\u001b[0m\u001b[0;34m\u001b[0m\u001b[0;34m\u001b[0m\u001b[0m\n\u001b[0m",
      "\u001b[0;31mTypeError\u001b[0m: 'Conv2D' object does not support indexing"
     ]
    }
   ],
   "source": [
    "import matplotlib.pyplot as plt\n",
    "import matplotlib\n",
    "\n",
    "def visualize_filters(layer, nrows, ncols):\n",
    "    \"\"\"Given a layer as an input, the function will plot all the filters present in that layer in x by y format.\n",
    "    For example suppose our input layer is block1_conv1 and we have 32 feature maps. This function will display\n",
    "    all the 32 feature maps in 8 X 4 view.\"\"\"\n",
    "    filters=layer.get_weights()\n",
    "    fig=plt.figure(figsize=(50,25))\n",
    "    for i in range(0,len(filters)):\n",
    "        ax=fig.add_subplot(ncols,nrows,i+1)\n",
    "        ax.matshow(filters[i][0][0], cmap=matplotlib.cm.binary)\n",
    "        plt.xticks(np.array([]))\n",
    "        plt.yticks(np.array([]))\n",
    "    plt.tight_layout()\n",
    "    return plt\n",
    "\n",
    "visualize_filters(model.layers[1],4,16)"
   ]
  },
  {
   "cell_type": "code",
   "execution_count": 8,
   "metadata": {},
   "outputs": [
    {
     "ename": "ValueError",
     "evalue": "too many values to unpack (expected 2)",
     "output_type": "error",
     "traceback": [
      "\u001b[0;31m---------------------------------------------------------------------------\u001b[0m",
      "\u001b[0;31mValueError\u001b[0m                                Traceback (most recent call last)",
      "\u001b[0;32m<ipython-input-8-ca79a575d7b1>\u001b[0m in \u001b[0;36m<module>\u001b[0;34m\u001b[0m\n\u001b[0;32m----> 1\u001b[0;31m \u001b[0mvisualize_filters\u001b[0m\u001b[0;34m(\u001b[0m\u001b[0mmodel\u001b[0m\u001b[0;34m.\u001b[0m\u001b[0mlayers\u001b[0m\u001b[0;34m[\u001b[0m\u001b[0;36m1\u001b[0m\u001b[0;34m]\u001b[0m\u001b[0;34m,\u001b[0m\u001b[0;36m16\u001b[0m\u001b[0;34m,\u001b[0m\u001b[0;36m4\u001b[0m\u001b[0;34m)\u001b[0m\u001b[0;34m\u001b[0m\u001b[0;34m\u001b[0m\u001b[0m\n\u001b[0m",
      "\u001b[0;32m<ipython-input-7-e1737ee1908b>\u001b[0m in \u001b[0;36mvisualize_filters\u001b[0;34m(layer, nrows, ncols)\u001b[0m\n\u001b[1;32m     10\u001b[0m     \u001b[0;32mfor\u001b[0m \u001b[0mi\u001b[0m \u001b[0;32min\u001b[0m \u001b[0mrange\u001b[0m\u001b[0;34m(\u001b[0m\u001b[0;36m0\u001b[0m\u001b[0;34m,\u001b[0m\u001b[0mlen\u001b[0m\u001b[0;34m(\u001b[0m\u001b[0mfilters\u001b[0m\u001b[0;34m)\u001b[0m\u001b[0;34m)\u001b[0m\u001b[0;34m:\u001b[0m\u001b[0;34m\u001b[0m\u001b[0;34m\u001b[0m\u001b[0m\n\u001b[1;32m     11\u001b[0m         \u001b[0max\u001b[0m\u001b[0;34m=\u001b[0m\u001b[0mfig\u001b[0m\u001b[0;34m.\u001b[0m\u001b[0madd_subplot\u001b[0m\u001b[0;34m(\u001b[0m\u001b[0mncols\u001b[0m\u001b[0;34m,\u001b[0m\u001b[0mnrows\u001b[0m\u001b[0;34m,\u001b[0m\u001b[0mi\u001b[0m\u001b[0;34m+\u001b[0m\u001b[0;36m1\u001b[0m\u001b[0;34m)\u001b[0m\u001b[0;34m\u001b[0m\u001b[0;34m\u001b[0m\u001b[0m\n\u001b[0;32m---> 12\u001b[0;31m         \u001b[0max\u001b[0m\u001b[0;34m.\u001b[0m\u001b[0mmatshow\u001b[0m\u001b[0;34m(\u001b[0m\u001b[0mfilters\u001b[0m\u001b[0;34m[\u001b[0m\u001b[0mi\u001b[0m\u001b[0;34m]\u001b[0m\u001b[0;34m[\u001b[0m\u001b[0;36m0\u001b[0m\u001b[0;34m]\u001b[0m\u001b[0;34m,\u001b[0m \u001b[0mcmap\u001b[0m\u001b[0;34m=\u001b[0m\u001b[0mmatplotlib\u001b[0m\u001b[0;34m.\u001b[0m\u001b[0mcm\u001b[0m\u001b[0;34m.\u001b[0m\u001b[0mbinary\u001b[0m\u001b[0;34m)\u001b[0m\u001b[0;34m\u001b[0m\u001b[0;34m\u001b[0m\u001b[0m\n\u001b[0m\u001b[1;32m     13\u001b[0m         \u001b[0mplt\u001b[0m\u001b[0;34m.\u001b[0m\u001b[0mxticks\u001b[0m\u001b[0;34m(\u001b[0m\u001b[0mnp\u001b[0m\u001b[0;34m.\u001b[0m\u001b[0marray\u001b[0m\u001b[0;34m(\u001b[0m\u001b[0;34m[\u001b[0m\u001b[0;34m]\u001b[0m\u001b[0;34m)\u001b[0m\u001b[0;34m)\u001b[0m\u001b[0;34m\u001b[0m\u001b[0;34m\u001b[0m\u001b[0m\n\u001b[1;32m     14\u001b[0m         \u001b[0mplt\u001b[0m\u001b[0;34m.\u001b[0m\u001b[0myticks\u001b[0m\u001b[0;34m(\u001b[0m\u001b[0mnp\u001b[0m\u001b[0;34m.\u001b[0m\u001b[0marray\u001b[0m\u001b[0;34m(\u001b[0m\u001b[0;34m[\u001b[0m\u001b[0;34m]\u001b[0m\u001b[0;34m)\u001b[0m\u001b[0;34m)\u001b[0m\u001b[0;34m\u001b[0m\u001b[0;34m\u001b[0m\u001b[0m\n",
      "\u001b[0;32m~/anaconda3/lib/python3.7/site-packages/matplotlib/axes/_axes.py\u001b[0m in \u001b[0;36mmatshow\u001b[0;34m(self, Z, **kwargs)\u001b[0m\n\u001b[1;32m   7798\u001b[0m         \"\"\"\n\u001b[1;32m   7799\u001b[0m         \u001b[0mZ\u001b[0m \u001b[0;34m=\u001b[0m \u001b[0mnp\u001b[0m\u001b[0;34m.\u001b[0m\u001b[0masanyarray\u001b[0m\u001b[0;34m(\u001b[0m\u001b[0mZ\u001b[0m\u001b[0;34m)\u001b[0m\u001b[0;34m\u001b[0m\u001b[0;34m\u001b[0m\u001b[0m\n\u001b[0;32m-> 7800\u001b[0;31m         \u001b[0mnr\u001b[0m\u001b[0;34m,\u001b[0m \u001b[0mnc\u001b[0m \u001b[0;34m=\u001b[0m \u001b[0mZ\u001b[0m\u001b[0;34m.\u001b[0m\u001b[0mshape\u001b[0m\u001b[0;34m\u001b[0m\u001b[0;34m\u001b[0m\u001b[0m\n\u001b[0m\u001b[1;32m   7801\u001b[0m         kw = {'origin': 'upper',\n\u001b[1;32m   7802\u001b[0m               \u001b[0;34m'interpolation'\u001b[0m\u001b[0;34m:\u001b[0m \u001b[0;34m'nearest'\u001b[0m\u001b[0;34m,\u001b[0m\u001b[0;34m\u001b[0m\u001b[0;34m\u001b[0m\u001b[0m\n",
      "\u001b[0;31mValueError\u001b[0m: too many values to unpack (expected 2)"
     ]
    },
    {
     "data": {
      "image/png": "[encoded data removed]",
      "text/plain": [
       "<Figure size 3600x1800 with 1 Axes>"
      ]
     },
     "metadata": {
      "needs_background": "light"
     },
     "output_type": "display_data"
    }
   ],
   "source": []
  },
  {
   "cell_type": "code",
   "execution_count": 19,
   "metadata": {},
   "outputs": [
    {
     "data": {
      "text/plain": [
       "(64,)"
      ]
     },
     "execution_count": 19,
     "metadata": {},
     "output_type": "execute_result"
    }
   ],
   "source": [
    "layer=model.layers[1]\n",
    "filters=layer.get_weights()\n",
    "filters[0][0][0][0]"
   ]
  },
  {
   "cell_type": "code",
   "execution_count": 33,
   "metadata": {},
   "outputs": [
    {
     "ename": "IndexError",
     "evalue": "index 3 is out of bounds for axis 0 with size 3",
     "output_type": "error",
     "traceback": [
      "\u001b[0;31m---------------------------------------------------------------------------\u001b[0m",
      "\u001b[0;31mIndexError\u001b[0m                                Traceback (most recent call last)",
      "\u001b[0;32m<ipython-input-33-99d5f72e1904>\u001b[0m in \u001b[0;36m<module>\u001b[0;34m\u001b[0m\n\u001b[0;32m----> 1\u001b[0;31m \u001b[0mfilters\u001b[0m\u001b[0;34m[\u001b[0m\u001b[0;36m0\u001b[0m\u001b[0;34m]\u001b[0m\u001b[0;34m[\u001b[0m\u001b[0;36m3\u001b[0m\u001b[0;34m]\u001b[0m\u001b[0;34m\u001b[0m\u001b[0;34m\u001b[0m\u001b[0m\n\u001b[0m",
      "\u001b[0;31mIndexError\u001b[0m: index 3 is out of bounds for axis 0 with size 3"
     ]
    }
   ],
   "source": [
    "filters[0][3]\n",
    "\n",
    "classifier.load_weights('best_weights.hdf5')"
   ]
  },
  {
   "cell_type": "code",
   "execution_count": null,
   "metadata": {},
   "outputs": [],
   "source": [
    "checkpointer = ModelCheckpoint(filepath=\"best_weights.hdf5\", \n",
    "                               monitor = 'val_acc',\n",
    "                               verbose=1, \n",
    "                               save_best_only=True)\n",
    "\n",
    "callbacks=[checkpointer] in fit_generator\n",
    "\n",
    "\"\"\"The model will train for 30 epochs but we will use ModelCheckpoint to store the weights of the best performing epoch. \n",
    "We will specify val_acc as the metric to use to define the best model. This means we will keep the weights of the epoch that scores highest in terms of accuracy on the test set.\"\"\""
   ]
  }
 ],
 "metadata": {
  "kernelspec": {
   "display_name": "Python 3",
   "language": "python",
   "name": "python3"
  },
  "language_info": {
   "codemirror_mode": {
    "name": "ipython",
    "version": 3
   },
   "file_extension": ".py",
   "mimetype": "text/x-python",
   "name": "python",
   "nbconvert_exporter": "python",
   "pygments_lexer": "ipython3",
   "version": "3.7.1"
  }
 },
 "nbformat": 4,
 "nbformat_minor": 2
}
