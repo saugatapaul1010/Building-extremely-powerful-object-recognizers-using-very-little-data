{
 "cells": [
  {
   "cell_type": "code",
   "execution_count": 18,
   "metadata": {},
   "outputs": [
    {
     "name": "stdout",
     "output_type": "stream",
     "text": [
      "What categories of images you want to download? ==> humans\n",
      "What's the total of images you want to download? ==> 50\n"
     ]
    },
    {
     "name": "stderr",
     "output_type": "stream",
     "text": [
      "\r",
      "  0%|          | 0/50 [00:00<?, ?it/s]"
     ]
    },
    {
     "name": "stdout",
     "output_type": "stream",
     "text": [
      "Downloading images...\n"
     ]
    },
    {
     "name": "stderr",
     "output_type": "stream",
     "text": [
      "100%|██████████| 50/50 [01:00<00:00,  1.36s/it]"
     ]
    },
    {
     "name": "stdout",
     "output_type": "stream",
     "text": [
      "50 images of 'humans' type downloaded and saved in folder 'Transfer Learning/humans'\n"
     ]
    },
    {
     "name": "stderr",
     "output_type": "stream",
     "text": [
      "\n"
     ]
    }
   ],
   "source": [
    "# First, you should install flickrapi\n",
    "# pip install flickrapi\n",
    "\n",
    "import flickrapi\n",
    "import urllib.request as geturl\n",
    "from PIL import Image\n",
    "\n",
    "#This is used to get the cetegory and the number of images you want to download from that category\n",
    "category = str(input(\"What categories of images you want to download? ==> \"))\n",
    "n = int(input(\"What's the total of images you want to download? ==> \"))\n",
    "\n",
    "#Create a folder corresponding to category name, each category will be stored in a different folder\n",
    "import os\n",
    "os.mkdir(category)\n",
    "\n",
    "#Using the FlickrAPI key to access flicker \n",
    "flickr=flickrapi.FlickrAPI('c6a2c45591d4973ff525042472446ca2', '202ffe6f387ce29b', cache=True)\n",
    "keyword = category\n",
    "photos = flickr.walk(text=keyword,tag_mode='all',tags=keyword,extras='url_c',per_page=100,sort='relevance')\n",
    "\n",
    "#Build a list of valid URLS, we will use these URLs to retrieve images\n",
    "url_lists = []\n",
    "count=1\n",
    "for i, photo in enumerate(photos):\n",
    "    url = photo.get('url_c')\n",
    "    if(url!=None):\n",
    "        url_lists.append(url)\n",
    "        count+=1\n",
    "    \n",
    "    #Get 'n' valids URLS for 'n' images you want to download\n",
    "    if count > n:\n",
    "        break\n",
    "        \n",
    "#This block actually downloads all the 'n'  images belonging to 'keywords' category \n",
    "print(\"Downloading images...\")\n",
    "from tqdm import tqdm\n",
    "i=1\n",
    "for url in tqdm(url_lists):\n",
    "    folder = category\n",
    "    geturl.urlretrieve(url, folder+'/{}{}.jpg'.format(folder,i))\n",
    "    image = Image.open(folder+'/{}{}.jpg'.format(folder,i)) \n",
    "    image = image.resize((256, 256), Image.ANTIALIAS)\n",
    "    image.save(folder+'/{}{}.jpg'.format(folder,i))\n",
    "    i+=1\n",
    "    \n",
    "print(\"{} images of '{}' type downloaded and saved in folder '{}'\".format(n,category,os.getcwd().split(\"/\")[-1]+\"/\"+folder))"
   ]
  }
 ],
 "metadata": {
  "kernelspec": {
   "display_name": "Python 3",
   "language": "python",
   "name": "python3"
  },
  "language_info": {
   "codemirror_mode": {
    "name": "ipython",
    "version": 3
   },
   "file_extension": ".py",
   "mimetype": "text/x-python",
   "name": "python",
   "nbconvert_exporter": "python",
   "pygments_lexer": "ipython3",
   "version": "3.7.1"
  }
 },
 "nbformat": 4,
 "nbformat_minor": 2
}
